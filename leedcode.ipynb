{
  "nbformat": 4,
  "nbformat_minor": 0,
  "metadata": {
    "colab": {
      "name": "leedcode.ipynb",
      "provenance": [],
      "include_colab_link": true
    },
    "kernelspec": {
      "name": "python3",
      "display_name": "Python 3"
    }
  },
  "cells": [
    {
      "cell_type": "markdown",
      "metadata": {
        "id": "view-in-github",
        "colab_type": "text"
      },
      "source": [
        "<a href=\"https://colab.research.google.com/github/ytling/Python_Ass/blob/main/leedcode.ipynb\" target=\"_parent\"><img src=\"https://colab.research.google.com/assets/colab-badge.svg\" alt=\"Open In Colab\"/></a>"
      ]
    },
    {
      "cell_type": "markdown",
      "metadata": {
        "id": "B5Qqo6jr9wXc"
      },
      "source": [
        "# Leedcode 67: Add Binary\n",
        "Given two string a and b, return their sum as a binary string. \n",
        "```\n",
        "Input: a = '101', b = '111'\n",
        "Output: '1100'\n",
        "```\n",
        "Idea: \n",
        "1. ans can use list and string as the result in a string. \n",
        "   if use the string: + \n",
        "   if use the list need to add the `\"\".join()[::-1]` at the end\n",
        "\n",
        "2. while loop instead the for loop: the length is unsure, both use the index\n",
        "\n",
        "3. var: res, carry, initializa the value. \n",
        "\n",
        "4. the last value in both list is not add in as the carry is replaced. \n",
        "\n"
      ]
    },
    {
      "cell_type": "code",
      "metadata": {
        "id": "UrJRANWk6oCP"
      },
      "source": [
        "class Solution:\n",
        "    def addBinary(self, a: str, b: str) :\n",
        "        ans, extra = [],0 \n",
        "        i,j=len(a)-1,len(b)-1\n",
        "        while i>=0 or j>=0:\n",
        "            if i >= 0:\n",
        "                extra += int(a[i])\n",
        "            if j >= 0:\n",
        "                extra += int(b[j])\n",
        "            ans.append(extra % 2)\n",
        "            extra //= 2\n",
        "            i,j = i-1,j-1\n",
        "        if extra == 1:\n",
        "            ans.append(1)\n",
        "        ans = [str(x) for x in ans][::-1]\n",
        "        return ''.join(ans)\n",
        "        "
      ],
      "execution_count": null,
      "outputs": []
    },
    {
      "cell_type": "markdown",
      "metadata": {
        "id": "6Rgyma4k9r4q"
      },
      "source": [
        ""
      ]
    }
  ]
}